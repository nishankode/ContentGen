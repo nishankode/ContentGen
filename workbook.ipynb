{
 "cells": [
  {
   "cell_type": "code",
   "execution_count": 1,
   "metadata": {},
   "outputs": [
    {
     "name": "stdout",
     "output_type": "stream",
     "text": [
      "  videoPublishTime      videoID  \\\n",
      "0       2 days ago  clHjVH6sgDY   \n",
      "1       2 days ago  j4-HA91MgUw   \n",
      "\n",
      "                                          videoTitle  \\\n",
      "0  Bhavish Aggarwal Made a Big Mistake - Indian S...   \n",
      "1         All The Wild AI News You Missed This Week!   \n",
      "\n",
      "                      handle  \n",
      "0  backstagewithmillionaires  \n",
      "1                    mreflow  \n",
      "https://www.tldwyoutube.com/api/analyze?v=clHjVH6sgDY\n",
      "https://www.tldwyoutube.com/api/analyze?v=j4-HA91MgUw\n"
     ]
    },
    {
     "name": "stderr",
     "output_type": "stream",
     "text": [
      "2024-10-14 20:52:19,793 - INFO - Retrieved recent videos and transcripts.\n"
     ]
    }
   ],
   "source": [
    "from youtube_scraper import scrape_youtube\n",
    "from twitter_thread_prompt import create_twitter_thread_prompt\n",
    "from openai_module import get_openai_completion\n",
    "from email_sender import send_daily_digest\n",
    "import pandas as pd\n",
    "import json\n",
    "\n",
    "\n",
    "if __name__ == \"__main__\":\n",
    "    # Load email and YouTube handle mappings from the JSON file\n",
    "\n",
    "    email_handles = {\n",
    "      \"mdnishan006@gmail.com\": [\"backstagewithmillionaires\", \"mreflow\"]\n",
    "      }\n",
    "\n",
    "\n",
    "    recent_videos_dfs = {}\n",
    "    \n",
    "    # Process each email and corresponding YouTube handles\n",
    "    for email, handles in email_handles.items():\n",
    "        recent_videos_df = scrape_youtube(handles, hours=70)\n",
    "\n",
    "        # Generating the prompt from transcript\n",
    "        recent_videos_df['twitterThreadPrompt'] = recent_videos_df['videoTranscript'].apply(lambda x: create_twitter_thread_prompt(x))\n",
    "\n",
    "        # Uncomment this line to generate the thread using OpenAI\n",
    "    #     recent_videos_df['twitterThread'] = recent_videos_df['twitterThreadPrompt'].apply(lambda x: get_openai_completion(x))\n",
    "\n",
    "    #     # Store the DataFrame with the corresponding email\n",
    "    #     recent_videos_dfs[email] = recent_videos_df\n",
    "\n",
    "    # # Send the daily email digest for each email and corresponding DataFrame\n",
    "    # for email, df in recent_videos_dfs.items():\n",
    "    #     send_daily_digest(df, [email])\n"
   ]
  },
  {
   "cell_type": "code",
   "execution_count": null,
   "metadata": {},
   "outputs": [],
   "source": []
  }
 ],
 "metadata": {
  "kernelspec": {
   "display_name": "contentgenyt",
   "language": "python",
   "name": "python3"
  },
  "language_info": {
   "codemirror_mode": {
    "name": "ipython",
    "version": 3
   },
   "file_extension": ".py",
   "mimetype": "text/x-python",
   "name": "python",
   "nbconvert_exporter": "python",
   "pygments_lexer": "ipython3",
   "version": "3.11.5"
  }
 },
 "nbformat": 4,
 "nbformat_minor": 2
}
